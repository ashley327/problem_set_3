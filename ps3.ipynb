{
 "cells": [
  {
   "cell_type": "code",
   "execution_count": 6,
   "id": "b5ceb1fd-b735-4abd-aa58-9249ad37e9c0",
   "metadata": {
    "tags": []
   },
   "outputs": [
    {
     "name": "stdout",
     "output_type": "stream",
     "text": [
      "The highest water level observed was 3.71 meters on 2024/09/26 at 12:18.\n"
     ]
    }
   ],
   "source": [
    "import csv\n",
    "\n",
    "# Path to data file\n",
    "data_file = '/blue/bsc4452/share/Class_Files/data/CO-OPS_8727520_wl.csv'\n",
    "\n",
    "# Initialize variables to track the highest water level and corresponding date and time\n",
    "highest_level = float('-inf')\n",
    "highest_date = None\n",
    "highest_time = None\n",
    "\n",
    "# Open csv file\n",
    "with open(data_file, 'r') as file:\n",
    "    reader = csv.reader(file)\n",
    "    next(reader)\n",
    "\n",
    "    # Read through the file line by line\n",
    "    for row in reader:\n",
    "        date = row[0]\n",
    "        time = row[1]\n",
    "        water_level = float(row[2])\n",
    "\n",
    "        # Check if the current water level is higher than the highest recorded so far\n",
    "        if water_level > highest_level:\n",
    "            highest_level = water_level\n",
    "            highest_date = date\n",
    "            highest_time = time\n",
    "\n",
    "# Report the highest water level and the corresponding date and time\n",
    "print(f\"The highest water level observed was {highest_level} meters on {highest_date} at {highest_time}.\")"
   ]
  },
  {
   "cell_type": "code",
   "execution_count": 9,
   "id": "d88c4786-1778-4cb5-8eb0-849c5bded174",
   "metadata": {
    "tags": []
   },
   "outputs": [
    {
     "name": "stdout",
     "output_type": "stream",
     "text": [
      "The highest water level observed was 3.71 meters on 2024/09/26 at 12:18.\n",
      "The lowest water level observed was 0.884 meters on 2024/09/26 at 20:30.\n",
      "The average water level during the period was 2.429 meters.\n"
     ]
    }
   ],
   "source": [
    "import csv\n",
    "\n",
    "# Path to data file\n",
    "data_file = '/blue/bsc4452/share/Class_Files/data/CO-OPS_8727520_wl.csv'\n",
    "\n",
    "# Initialize variables to track the highest and lowest water levels and corresponding date and time\n",
    "highest_level = float('-inf')\n",
    "lowest_level = float('inf')\n",
    "highest_date = None\n",
    "lowest_date = None\n",
    "highest_time = None\n",
    "lowest_time = None\n",
    "total_water_level = 0\n",
    "count = 0\n",
    "\n",
    "# Open csv file\n",
    "with open(data_file, 'r') as file:\n",
    "    reader = csv.reader(file)\n",
    "    next(reader)\n",
    "\n",
    "    # Read through the file line by line\n",
    "    for row in reader:\n",
    "        date = row[0]\n",
    "        time = row[1]\n",
    "        water_level = float(row[2])\n",
    "\n",
    "        # Update total and count for average calculation\n",
    "        total_water_level += water_level\n",
    "        count += 1\n",
    "\n",
    "        # Check if the current water level is higher than the highest recorded so far\n",
    "        if water_level > highest_level:\n",
    "            highest_level = water_level\n",
    "            highest_date = date\n",
    "            highest_time = time\n",
    "\n",
    "        # Check if the current water level is lower than the lowest recorded so far\n",
    "        if water_level < lowest_level:\n",
    "            lowest_level = water_level\n",
    "            lowest_date = date\n",
    "            lowest_time = time\n",
    "\n",
    "# Calculate the average water level\n",
    "average_level = total_water_level / count\n",
    "\n",
    "# Report the lowest, highest, and average water levels\n",
    "print(f\"The highest water level observed was {highest_level} meters on {highest_date} at {highest_time}.\")\n",
    "print(f\"The lowest water level observed was {lowest_level} meters on {lowest_date} at {lowest_time}.\")\n",
    "print(f\"The average water level during the period was {average_level:.3f} meters.\")"
   ]
  },
  {
   "cell_type": "code",
   "execution_count": 10,
   "id": "e1565cc0-7d60-428c-82d9-eeac831fbdda",
   "metadata": {
    "tags": []
   },
   "outputs": [
    {
     "name": "stdout",
     "output_type": "stream",
     "text": [
      "The fastest rise in water level was 0.047 meters over a 6-minute period on 2024/09/26 at 23:42.\n"
     ]
    }
   ],
   "source": [
    "import csv\n",
    "\n",
    "# Path to data file\n",
    "data_file = '/blue/bsc4452/share/Class_Files/data/CO-OPS_8727520_wl.csv'\n",
    "\n",
    "# Initialize variables to track the largest rise in water level and corresponding date and time\n",
    "max_rise = float('-inf')\n",
    "max_rise_date = None\n",
    "max_rise_time = None\n",
    "previous_level = None\n",
    "\n",
    "# Open csv file\n",
    "with open(data_file, 'r') as file:\n",
    "    reader = csv.reader(file)\n",
    "    next(reader)\n",
    "\n",
    "    # Read through the file line by line\n",
    "    for row in reader:\n",
    "        date = row[0]\n",
    "        time = row[1]\n",
    "        water_level = float(row[2])\n",
    "\n",
    "        # Calculate the rise in water level from the previous recording\n",
    "        if previous_level is not None:\n",
    "            rise = water_level - previous_level\n",
    "\n",
    "            # Check if this is the largest rise recorded so far\n",
    "            if rise > max_rise:\n",
    "                max_rise = rise\n",
    "                max_rise_date = date\n",
    "                max_rise_time = time\n",
    "\n",
    "        # Update the current water level to be the previous level for the next iteration\n",
    "        previous_level = water_level\n",
    "\n",
    "# Report the fastest rise in water level and the corresponding date and time\n",
    "print(f\"The fastest rise in water level was {max_rise:.3f} meters over a 6-minute period on {max_rise_date} at {max_rise_time}.\")\n"
   ]
  },
  {
   "cell_type": "code",
   "execution_count": 20,
   "id": "8a0434f7-da0b-4f40-abca-5187e542430f",
   "metadata": {
    "tags": []
   },
   "outputs": [],
   "source": [
    "import csv\n",
    "\n",
    "# Path to data file\n",
    "data_file = '/blue/bsc4452/share/Class_Files/data/CO-OPS_8727520_wl.csv'\n",
    "\n",
    "# Initialize variable to track the previous water level\n",
    "previous_level = None\n",
    "\n",
    "# Open the CSV file\n",
    "with open(data_file, 'r') as file:\n",
    "    reader = csv.reader(file)\n",
    "    next(reader)\n",
    "\n",
    "    # Read through the file line by line\n",
    "    for row in reader:\n",
    "        if len(row) < 2:\n",
    "            # Warning for missing reading\n",
    "            print(\"Warning: No reading received at a time point.\")\n",
    "            continue\n",
    "\n",
    "        date = row[0]\n",
    "        time = row[1]\n",
    "        try:\n",
    "            water_level = float(row[2])\n",
    "        except ValueError:\n",
    "            # Handle non-numeric water level entries\n",
    "            print(f\"Warning: Invalid water level data at {date} {time}.\")\n",
    "            continue\n",
    "\n",
    "        # Check if the water level increases more than 0.25 since the previous recording\n",
    "        if previous_level is not None and (water_level - previous_level) > 0.25:\n",
    "            print(f\"Warning: Water level increased by more than 0.25 meters at {date} {time}.\")\n",
    "\n",
    "        # Check if the water level is over 5.0\n",
    "        if water_level > 5.0:\n",
    "            print(f\"Warning: Water level is over 5.0 meters at {date} {time}.\")\n",
    "\n",
    "        # Update the previous level to the current level for the next iteration\n",
    "        previous_level = water_level"
   ]
  },
  {
   "cell_type": "code",
   "execution_count": null,
   "id": "da43c284-4d80-4657-8729-6cb3ef53d32f",
   "metadata": {},
   "outputs": [],
   "source": []
  }
 ],
 "metadata": {
  "kernelspec": {
   "display_name": "UFRC Python-3.10",
   "language": "python",
   "name": "python3-3.10-ufrc"
  },
  "language_info": {
   "codemirror_mode": {
    "name": "ipython",
    "version": 3
   },
   "file_extension": ".py",
   "mimetype": "text/x-python",
   "name": "python",
   "nbconvert_exporter": "python",
   "pygments_lexer": "ipython3",
   "version": "3.10.8"
  }
 },
 "nbformat": 4,
 "nbformat_minor": 5
}
